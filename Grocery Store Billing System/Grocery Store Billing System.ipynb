{
 "cells": [
  {
   "cell_type": "code",
   "execution_count": 2,
   "id": "89490ff8-184c-45c7-a074-42035d59bea2",
   "metadata": {},
   "outputs": [
    {
     "name": "stdout",
     "output_type": "stream",
     "text": [
      "\t\t\t\t\t WELCOME_TO_STORE \n"
     ]
    },
    {
     "name": "stdin",
     "output_type": "stream",
     "text": [
      " enter your required product:  sofa-set\n"
     ]
    },
    {
     "name": "stdout",
     "output_type": "stream",
     "text": [
      "yes, the product is available\n"
     ]
    },
    {
     "name": "stdin",
     "output_type": "stream",
     "text": [
      " enter your quantity:  2\n"
     ]
    },
    {
     "name": "stdout",
     "output_type": "stream",
     "text": [
      "yes we have that quantity\n",
      "your bill of 2 sofa-set is 46598\n"
     ]
    }
   ],
   "source": [
    "# welcome:\n",
    "print(\"\\t\\t\\t\\t\\t WELCOME_TO_STORE \")\n",
    "# user enter pro:\n",
    "user_entered_pro = input(' enter your required product: ')\n",
    "# open and read data from the file:\n",
    "grocery = open (\"grocery.txt\", 'r')\n",
    "read_data_line_by_line = grocery.readline()\n",
    "g = eval(read_data_line_by_line)\n",
    "#print(g)\n",
    "#print(type(g))\n",
    "# checking that the data is available or not:\n",
    "if user_entered_pro in g.keys():\n",
    "    print(\"yes, the product is available\")\n",
    "        # if the required product is available than:\n",
    "    user_quantity = int(input(' enter your quantity: '))\n",
    "    # user_quantity\n",
    "    # now check that the required quantity is available or not:\n",
    "    if user_quantity <= g[user_entered_pro]:\n",
    "        print('yes we have that quantity')\n",
    "        #making bill and update the file_grocery\n",
    "        prices = open(\"prices.txt\", 'r')\n",
    "        read_prices = prices.readline()\n",
    "        p = eval(read_prices)\n",
    "        # print(p)\n",
    "        # print(type(p))\n",
    "        # v = p.values()\n",
    "        bill = user_quantity * p[user_entered_pro]\n",
    "        print(\"your bill of\", user_quantity , user_entered_pro ,\"is\", bill)\n",
    "        #print(v)\n",
    "        g[user_entered_pro] = g[user_entered_pro] - user_quantity\n",
    "        new_grocery = open(\"grocery.txt\", 'w')\n",
    "        new_grocery.write(str(g))\n",
    "        new_grocery.close()\n",
    "        \n",
    "    else:\n",
    "        print(\"we don't have that much quantity\")\n",
    "    \n",
    "else:\n",
    "    print(\"No, we don't have that product \")\n",
    "    #we have only these pro show them that pro list....\n",
    "grocery.close()"
   ]
  }
 ],
 "metadata": {
  "kernelspec": {
   "display_name": "Python 3 (ipykernel)",
   "language": "python",
   "name": "python3"
  },
  "language_info": {
   "codemirror_mode": {
    "name": "ipython",
    "version": 3
   },
   "file_extension": ".py",
   "mimetype": "text/x-python",
   "name": "python",
   "nbconvert_exporter": "python",
   "pygments_lexer": "ipython3",
   "version": "3.12.4"
  }
 },
 "nbformat": 4,
 "nbformat_minor": 5
}
